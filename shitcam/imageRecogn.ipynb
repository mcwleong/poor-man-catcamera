{
 "cells": [
  {
   "cell_type": "code",
   "execution_count": 7,
   "metadata": {},
   "outputs": [],
   "source": [
    "import cv2\n",
    "import os\n",
    "import numpy as np\n",
    "\n",
    "os.listdir(\"D:\\shitcam\")\n",
    "vid_src = \"D:\\shitcam\\espFeederCamera_230213204603.avi\""
   ]
  },
  {
   "cell_type": "code",
   "execution_count": 22,
   "metadata": {},
   "outputs": [],
   "source": [
    "vid = cv2.VideoCapture(vid_src)\n",
    "previous_frame =None\n",
    "while vid.isOpened():\n",
    "    ret, frame = vid.read()\n",
    "    if not ret:\n",
    "        print(\"Can,t receive frame\")\n",
    "        break\n",
    "    \n",
    "    # 2. Prepare image; grayscale and blur\n",
    "    prepared_frame = cv2.cvtColor(frame, cv2.COLOR_BGR2GRAY)\n",
    "    prepared_frame = cv2.GaussianBlur(src=prepared_frame, ksize=(5,5), sigmaX=0)\n",
    "    \n",
    "    # 3. Set previous frame and continue if there is None\n",
    "    if (previous_frame is None):\n",
    "    # First frame; there is no previous one yet\n",
    "        previous_frame = prepared_frame\n",
    "        continue\n",
    "    \n",
    "    # calculate difference and update previous frame\n",
    "    diff_frame = cv2.absdiff(src1=previous_frame, src2=prepared_frame)\n",
    "    previous_frame = prepared_frame\n",
    "\n",
    "    # 4. Dilute the image a bit to make differences more seeable; more suitable for contour detection\n",
    "    kernel = np.ones((5 , 5))\n",
    "    diff_frame = cv2.dilate(diff_frame, kernel, 1)\n",
    "\n",
    "    # 5. Only take different areas that are different enough (>20 / 255)\n",
    "    thresh_frame = cv2.threshold(src=diff_frame, thresh=20, maxval=255, type=cv2.THRESH_BINARY)[1]\n",
    "    #thresh_frame = cv2.dilate(thresh_frame, kernel, 1)\n",
    "    #thresh_frame = cv2.threshold(src=thresh_frame, thresh=20, maxval=255, type=cv2.THRESH_BINARY)[1]\n",
    "\n",
    "    contours, _ = cv2.findContours(image=thresh_frame, mode=cv2.RETR_EXTERNAL, method=cv2.CHAIN_APPROX_SIMPLE)\n",
    "    #cv2.drawContours(image=frame, contours=contours, contourIdx=-1, color=(0, 255, 0), thickness=2, lineType=cv2.LINE_AA)\n",
    "\n",
    "\n",
    "    contours, _ = cv2.findContours(image=thresh_frame, mode=cv2.RETR_EXTERNAL, method=cv2.CHAIN_APPROX_SIMPLE)\n",
    "    for contour in contours:\n",
    "        if cv2.contourArea(contour) < 50:\n",
    "            # too small: skip!\n",
    "            continue\n",
    "        (x, y, w, h) = cv2.boundingRect(contour)\n",
    "        cv2.rectangle(img=frame, pt1=(x, y), pt2=(x + w, y + h), color=(0, 255, 0), thickness=2)\n",
    "\n",
    "    frame = cv2.hconcat([frame, cv2.cvtColor(thresh_frame,cv2.COLOR_GRAY2RGB)])\n",
    "\n",
    "    \n",
    "    cv2.imshow('frame', frame)\n",
    "\n",
    "    if cv2.waitKey(1) == ord('q'):\n",
    "        break\n",
    "\n",
    "vid.release()\n",
    "cv2.destroyAllWindows()"
   ]
  }
 ],
 "metadata": {
  "kernelspec": {
   "display_name": "Python 3",
   "language": "python",
   "name": "python3"
  },
  "language_info": {
   "codemirror_mode": {
    "name": "ipython",
    "version": 3
   },
   "file_extension": ".py",
   "mimetype": "text/x-python",
   "name": "python",
   "nbconvert_exporter": "python",
   "pygments_lexer": "ipython3",
   "version": "3.11.2"
  },
  "orig_nbformat": 4,
  "vscode": {
   "interpreter": {
    "hash": "ebfc0a8d552866b0d59eba665220a57de3bc06f3ac643b8bef38dd8f66781fdd"
   }
  }
 },
 "nbformat": 4,
 "nbformat_minor": 2
}
