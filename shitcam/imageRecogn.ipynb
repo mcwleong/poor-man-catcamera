{
 "cells": [
  {
   "cell_type": "code",
   "execution_count": 1,
   "metadata": {},
   "outputs": [],
   "source": [
    "import cv2\n",
    "import os\n",
    "import matplotlib.pyplot as plt\n",
    "import math\n",
    "from datetime import datetime, timedelta\n",
    "\n",
    "\n",
    "%matplotlib inline\n"
   ]
  },
  {
   "cell_type": "code",
   "execution_count": 2,
   "metadata": {},
   "outputs": [],
   "source": [
    "def loadImage(imgNameFull: str) -> dict:\n",
    "    if imgNameFull[-3:] != \"jpg\" and imgNameFull[-3:]!= \"png\":\n",
    "        return\n",
    "    [camName, dt]=imgNameFull[:-4].split(sep = \"_\")\n",
    "    img = cv2.imread(imgNameFull)\n",
    "    return {\"cameraName\": camName, \"dateTime\": dt, \"frame\": img}\n"
   ]
  },
  {
   "cell_type": "code",
   "execution_count": null,
   "metadata": {},
   "outputs": [],
   "source": []
  },
  {
   "cell_type": "code",
   "execution_count": 3,
   "metadata": {},
   "outputs": [
    {
     "name": "stdout",
     "output_type": "stream",
     "text": [
      "Files and directories in ' D:\\shitcam ' :\n",
      "855  files\n"
     ]
    }
   ],
   "source": [
    "fileLocation = \"D:\\\\shitcam\"\n",
    "dir_list = os.listdir(fileLocation)\n",
    "dir_list = [fileLocation + \"\\\\\"+ a for a in dir_list]  \n",
    "print(\"Files and directories in '\", fileLocation, \"' :\") \n",
    "\n",
    "# print the list\n",
    "print(len(dir_list), \" files\")\n"
   ]
  },
  {
   "cell_type": "code",
   "execution_count": 4,
   "metadata": {},
   "outputs": [],
   "source": [
    "def cvtDateTime(dt:str) :\n",
    "    dt_list = [int(dt[a:a+2]) for a in range(0,len(dt),2)]\n",
    "    dt_list[0] = dt_list[0]+2000\n",
    "    #print(dt_list)\n",
    "    return datetime(dt_list[0],dt_list[1],dt_list[2],dt_list[3],dt_list[4], dt_list[5])\n",
    "\n",
    "\n",
    "def checkvalid(prev:dict, now:dict) ->bool:\n",
    "    if prev[\"cameraName\"]!=now[\"cameraName\"]:\n",
    "        return False\n",
    "    if (cvtDateTime(now[\"dateTime\"]) - cvtDateTime(prev[\"dateTime\"])).total_seconds()>60:\n",
    "        return False\n",
    "    return True\n"
   ]
  },
  {
   "cell_type": "code",
   "execution_count": null,
   "metadata": {},
   "outputs": [],
   "source": [
    "## Test out the cv2 image background subtraction feature for each pair of image\n",
    "prev = loadImage(dir_list[0])\n",
    "\n",
    "validPair = []\n",
    "for i in range(1,len(dir_list)):\n",
    "    print(dir_list[i])\n",
    "    if dir_list[i][-3:] != \"jpg\" and dir_list[i][-3:]!= \"png\":\n",
    "        continue\n",
    "\n",
    "    now = loadImage(dir_list[i])\n",
    "    \n",
    "    if not checkvalid(prev,now):\n",
    "        continue\n",
    "    \n",
    "    validPair.append((prev,now))\n",
    "\n",
    "    prev = now\n",
    "    \n",
    "    \n"
   ]
  },
  {
   "cell_type": "code",
   "execution_count": null,
   "metadata": {},
   "outputs": [],
   "source": []
  },
  {
   "cell_type": "code",
   "execution_count": null,
   "metadata": {},
   "outputs": [],
   "source": []
  }
 ],
 "metadata": {
  "kernelspec": {
   "display_name": "Python 3",
   "language": "python",
   "name": "python3"
  },
  "language_info": {
   "codemirror_mode": {
    "name": "ipython",
    "version": 3
   },
   "file_extension": ".py",
   "mimetype": "text/x-python",
   "name": "python",
   "nbconvert_exporter": "python",
   "pygments_lexer": "ipython3",
   "version": "3.10.9"
  },
  "orig_nbformat": 4,
  "vscode": {
   "interpreter": {
    "hash": "85939fbd77ee36ea7d28e42d42d0d91ba79486a49c9560e9d6d504a172e001dc"
   }
  }
 },
 "nbformat": 4,
 "nbformat_minor": 2
}
